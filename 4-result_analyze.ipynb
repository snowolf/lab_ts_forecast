{
 "cells": [
  {
   "cell_type": "markdown",
   "metadata": {},
   "source": [
    "# Result Analyze\n",
    "\n",
    "Analyze DeepAR forecast result using sMAPE."
   ]
  },
  {
   "cell_type": "code",
   "execution_count": 6,
   "metadata": {},
   "outputs": [],
   "source": [
    "%matplotlib inline\n",
    "import numpy as np\n",
    "import pandas as pd"
   ]
  },
  {
   "cell_type": "markdown",
   "metadata": {},
   "source": [
    "## Load Result\n",
    "\n",
    "Load result using pandas.read_csv."
   ]
  },
  {
   "cell_type": "code",
   "execution_count": 7,
   "metadata": {},
   "outputs": [
    {
     "data": {
      "text/html": [
       "<div>\n",
       "<style scoped>\n",
       "    .dataframe tbody tr th:only-of-type {\n",
       "        vertical-align: middle;\n",
       "    }\n",
       "\n",
       "    .dataframe tbody tr th {\n",
       "        vertical-align: top;\n",
       "    }\n",
       "\n",
       "    .dataframe thead th {\n",
       "        text-align: right;\n",
       "    }\n",
       "</style>\n",
       "<table border=\"1\" class=\"dataframe\">\n",
       "  <thead>\n",
       "    <tr style=\"text-align: right;\">\n",
       "      <th></th>\n",
       "      <th>date</th>\n",
       "      <th>store_id</th>\n",
       "      <th>y_label</th>\n",
       "      <th>y_pred</th>\n",
       "    </tr>\n",
       "  </thead>\n",
       "  <tbody>\n",
       "    <tr>\n",
       "      <th>0</th>\n",
       "      <td>2019-09-24</td>\n",
       "      <td>0</td>\n",
       "      <td>157.2</td>\n",
       "      <td>12.363743</td>\n",
       "    </tr>\n",
       "    <tr>\n",
       "      <th>1</th>\n",
       "      <td>2019-09-25</td>\n",
       "      <td>0</td>\n",
       "      <td>125.2</td>\n",
       "      <td>8.149283</td>\n",
       "    </tr>\n",
       "    <tr>\n",
       "      <th>2</th>\n",
       "      <td>2019-09-26</td>\n",
       "      <td>0</td>\n",
       "      <td>154.4</td>\n",
       "      <td>17.012093</td>\n",
       "    </tr>\n",
       "    <tr>\n",
       "      <th>3</th>\n",
       "      <td>2019-09-27</td>\n",
       "      <td>0</td>\n",
       "      <td>174.1</td>\n",
       "      <td>10.019235</td>\n",
       "    </tr>\n",
       "    <tr>\n",
       "      <th>4</th>\n",
       "      <td>2019-09-28</td>\n",
       "      <td>0</td>\n",
       "      <td>27.0</td>\n",
       "      <td>12.105393</td>\n",
       "    </tr>\n",
       "  </tbody>\n",
       "</table>\n",
       "</div>"
      ],
      "text/plain": [
       "         date  store_id  y_label     y_pred\n",
       "0  2019-09-24         0    157.2  12.363743\n",
       "1  2019-09-25         0    125.2   8.149283\n",
       "2  2019-09-26         0    154.4  17.012093\n",
       "3  2019-09-27         0    174.1  10.019235\n",
       "4  2019-09-28         0     27.0  12.105393"
      ]
     },
     "execution_count": 7,
     "metadata": {},
     "output_type": "execute_result"
    }
   ],
   "source": [
    "result = pd.read_csv('data/deepar-predict-result.csv')\n",
    "result.head()"
   ]
  },
  {
   "cell_type": "markdown",
   "metadata": {},
   "source": [
    "## Group Result\n",
    "\n",
    "Group result using pandas.groupby."
   ]
  },
  {
   "cell_type": "code",
   "execution_count": 8,
   "metadata": {},
   "outputs": [],
   "source": [
    "result_group = result.groupby(['store_id'])\n",
    "tss = []\n",
    "forecasts = []\n",
    "for name, group in result_group:\n",
    "    ts = list(group['y_label'].values)\n",
    "    forecast = list(group['y_pred'].values)\n",
    "    tss.append(ts)\n",
    "    forecasts.append(forecast)\n",
    "target = np.array(tss)\n",
    "forecast = np.array(forecasts)"
   ]
  },
  {
   "cell_type": "markdown",
   "metadata": {},
   "source": [
    "## Calculate sMAPE\n",
    "\n",
    "Define a function called smape, and calculate sMAPE."
   ]
  },
  {
   "cell_type": "code",
   "execution_count": 9,
   "metadata": {},
   "outputs": [],
   "source": [
    "def smape(target, forecast):\n",
    "    r\"\"\"\n",
    "    .. math::\n",
    "        smape = mean(2 * |Y - Y_hat| / (|Y| + |Y_hat|))\n",
    "    https://www.m4.unic.ac.cy/wp-content/uploads/2018/03/M4-Competitors-Guide.pdf\n",
    "    \"\"\"\n",
    "\n",
    "    denominator = np.abs(target) + np.abs(forecast)\n",
    "    flag = denominator == 0\n",
    "\n",
    "    smape = 2 * np.mean(\n",
    "        (np.abs(target - forecast) * (1 - flag)) / (denominator + flag)\n",
    "    )\n",
    "    return smape"
   ]
  },
  {
   "cell_type": "code",
   "execution_count": 10,
   "metadata": {},
   "outputs": [],
   "source": [
    "smape_values = []\n",
    "for i in range(len(target)):\n",
    "    smape_value = smape(target[i], forecast[i])\n",
    "    smape_values.append(smape_value)"
   ]
  },
  {
   "cell_type": "markdown",
   "metadata": {},
   "source": [
    "## Show Result\n",
    "\n",
    "Show sMAPE result using bar plot."
   ]
  },
  {
   "cell_type": "code",
   "execution_count": 15,
   "metadata": {},
   "outputs": [
    {
     "data": {
      "text/plain": [
       "<matplotlib.axes._subplots.AxesSubplot at 0x7f99d4650240>"
      ]
     },
     "execution_count": 15,
     "metadata": {},
     "output_type": "execute_result"
    },
    {
     "data": {
      "image/png": "[encoded data removed]",
      "text/plain": [
       "<Figure size 1440x360 with 1 Axes>"
      ]
     },
     "metadata": {},
     "output_type": "display_data"
    }
   ],
   "source": [
    "item_metrics = pd.DataFrame({'sMAPE': smape_values})\n",
    "item_metrics['sMAPE'].plot(kind='bar', figsize=(20,5))"
   ]
  },
  {
   "cell_type": "markdown",
   "metadata": {},
   "source": [
    "You can see the SMAPE is various, different store got different performance from this DeepAR model, which means sometimes one model could not cover all target time series.\n",
    "\n",
    "In practice, we usually put the model online to predict those stores which have good preformance from the model and tune model (hyper paramenters, feature engineering) for other stores as well."
   ]
  },
  {
   "cell_type": "code",
   "execution_count": 16,
   "metadata": {},
   "outputs": [
    {
     "data": {
      "text/plain": [
       "<matplotlib.axes._subplots.AxesSubplot at 0x7f99cf22cef0>"
      ]
     },
     "execution_count": 16,
     "metadata": {},
     "output_type": "execute_result"
    },
    {
     "data": {
      "image/png": "[encoded data removed]",
      "text/plain": [
       "<Figure size 432x288 with 1 Axes>"
      ]
     },
     "metadata": {},
     "output_type": "display_data"
    }
   ],
   "source": [
    "quartiles = pd.cut(item_metrics.sMAPE, [0, .1, .2, .3, .4, .5, .6, .7, .8, .9, 1, 2])\n",
    "def get_stats(group):\n",
    "    return {'sMAPE': group.count()}\n",
    "grouped = item_metrics.sMAPE.groupby(quartiles)\n",
    "target_bucket_amount = grouped.apply(get_stats).unstack()\n",
    "target_bucket_amount.plot(kind='bar')"
   ]
  },
  {
   "cell_type": "markdown",
   "metadata": {},
   "source": [
    "Now let's check the result of DeepAR with category and dynamic_feat. "
   ]
  },
  {
   "cell_type": "code",
   "execution_count": 17,
   "metadata": {},
   "outputs": [
    {
     "data": {
      "text/html": [
       "<div>\n",
       "<style scoped>\n",
       "    .dataframe tbody tr th:only-of-type {\n",
       "        vertical-align: middle;\n",
       "    }\n",
       "\n",
       "    .dataframe tbody tr th {\n",
       "        vertical-align: top;\n",
       "    }\n",
       "\n",
       "    .dataframe thead th {\n",
       "        text-align: right;\n",
       "    }\n",
       "</style>\n",
       "<table border=\"1\" class=\"dataframe\">\n",
       "  <thead>\n",
       "    <tr style=\"text-align: right;\">\n",
       "      <th></th>\n",
       "      <th>date</th>\n",
       "      <th>store_id</th>\n",
       "      <th>y_label</th>\n",
       "      <th>y_pred</th>\n",
       "    </tr>\n",
       "  </thead>\n",
       "  <tbody>\n",
       "    <tr>\n",
       "      <th>0</th>\n",
       "      <td>2019-09-24</td>\n",
       "      <td>0</td>\n",
       "      <td>157.2</td>\n",
       "      <td>7.188352</td>\n",
       "    </tr>\n",
       "    <tr>\n",
       "      <th>1</th>\n",
       "      <td>2019-09-25</td>\n",
       "      <td>0</td>\n",
       "      <td>125.2</td>\n",
       "      <td>7.121572</td>\n",
       "    </tr>\n",
       "    <tr>\n",
       "      <th>2</th>\n",
       "      <td>2019-09-26</td>\n",
       "      <td>0</td>\n",
       "      <td>154.4</td>\n",
       "      <td>11.697053</td>\n",
       "    </tr>\n",
       "    <tr>\n",
       "      <th>3</th>\n",
       "      <td>2019-09-27</td>\n",
       "      <td>0</td>\n",
       "      <td>174.1</td>\n",
       "      <td>11.285398</td>\n",
       "    </tr>\n",
       "    <tr>\n",
       "      <th>4</th>\n",
       "      <td>2019-09-28</td>\n",
       "      <td>0</td>\n",
       "      <td>27.0</td>\n",
       "      <td>17.022421</td>\n",
       "    </tr>\n",
       "  </tbody>\n",
       "</table>\n",
       "</div>"
      ],
      "text/plain": [
       "         date  store_id  y_label     y_pred\n",
       "0  2019-09-24         0    157.2   7.188352\n",
       "1  2019-09-25         0    125.2   7.121572\n",
       "2  2019-09-26         0    154.4  11.697053\n",
       "3  2019-09-27         0    174.1  11.285398\n",
       "4  2019-09-28         0     27.0  17.022421"
      ]
     },
     "execution_count": 17,
     "metadata": {},
     "output_type": "execute_result"
    }
   ],
   "source": [
    "result_new_features = pd.read_csv('data/deepar-new-features-predict-result.csv')\n",
    "result_new_features.head()"
   ]
  },
  {
   "cell_type": "code",
   "execution_count": 23,
   "metadata": {},
   "outputs": [],
   "source": [
    "result_new_features_group = result.groupby(['store_id'])\n",
    "tss_new_features = []\n",
    "forecasts_new_features = []\n",
    "for name, group in result_new_features_group:\n",
    "    ts = list(group['y_label'].values)\n",
    "    forecast = list(group['y_pred'].values)\n",
    "    tss_new_features.append(ts)\n",
    "    forecasts_new_features.append(forecast)\n",
    "target_new_features = np.array(tss_new_features)\n",
    "forecast_new_features = np.array(forecasts_new_features)"
   ]
  },
  {
   "cell_type": "code",
   "execution_count": 24,
   "metadata": {},
   "outputs": [],
   "source": [
    "smape_values_new_features = []\n",
    "for i in range(len(target_new_features)):\n",
    "    smape_value_new_features = smape(target_new_features[i], forecast_new_features[i])\n",
    "    smape_values_new_features.append(smape_value_new_features)"
   ]
  },
  {
   "cell_type": "markdown",
   "metadata": {},
   "source": [
    "Show result"
   ]
  },
  {
   "cell_type": "code",
   "execution_count": 25,
   "metadata": {},
   "outputs": [
    {
     "data": {
      "text/plain": [
       "<matplotlib.axes._subplots.AxesSubplot at 0x7f99cc3a4a20>"
      ]
     },
     "execution_count": 25,
     "metadata": {},
     "output_type": "execute_result"
    },
    {
     "data": {
      "image/png": "[encoded data removed]",
      "text/plain": [
       "<Figure size 1440x360 with 1 Axes>"
      ]
     },
     "metadata": {},
     "output_type": "display_data"
    }
   ],
   "source": [
    "item_metrics_new_features = pd.DataFrame({'sMAPE': smape_values_new_features})\n",
    "item_metrics_new_features['sMAPE'].plot(kind='bar', figsize=(20,5))"
   ]
  },
  {
   "cell_type": "code",
   "execution_count": 26,
   "metadata": {},
   "outputs": [
    {
     "data": {
      "text/plain": [
       "<matplotlib.axes._subplots.AxesSubplot at 0x7f99cb33b6a0>"
      ]
     },
     "execution_count": 26,
     "metadata": {},
     "output_type": "execute_result"
    },
    {
     "data": {
      "image/png": "[encoded data removed]",
      "text/plain": [
       "<Figure size 432x288 with 1 Axes>"
      ]
     },
     "metadata": {},
     "output_type": "display_data"
    }
   ],
   "source": [
    "quartiles_new_features = pd.cut(item_metrics_new_features.sMAPE, [0, .1, .2, .3, .4, .5, .6, .7, .8, .9, 1, 2])\n",
    "def get_stats(group):\n",
    "    return {'sMAPE': group.count()}\n",
    "grouped_new_features = item_metrics_new_features.sMAPE.groupby(quartiles_new_features)\n",
    "target_bucket_amount_new_features = grouped_new_features.apply(get_stats).unstack()\n",
    "target_bucket_amount_new_features.plot(kind='bar')"
   ]
  }
 ],
 "metadata": {
  "kernelspec": {
   "display_name": "conda_python3",
   "language": "python",
   "name": "conda_python3"
  },
  "language_info": {
   "codemirror_mode": {
    "name": "ipython",
    "version": 3
   },
   "file_extension": ".py",
   "mimetype": "text/x-python",
   "name": "python",
   "nbconvert_exporter": "python",
   "pygments_lexer": "ipython3",
   "version": "3.6.5"
  }
 },
 "nbformat": 4,
 "nbformat_minor": 2
}
