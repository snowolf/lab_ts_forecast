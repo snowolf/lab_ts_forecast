{
 "cells": [
  {
   "cell_type": "markdown",
   "metadata": {},
   "source": [
    "## Download Data"
   ]
  },
  {
   "cell_type": "code",
   "execution_count": 1,
   "metadata": {
    "scrolled": true
   },
   "outputs": [
    {
     "name": "stdout",
     "output_type": "stream",
     "text": [
      "--2020-01-08 08:06:58--  https://tko-2020-ts-workshop.s3-us-west-2.amazonaws.com/data/timeseries_raw.csv\n",
      "Resolving tko-2020-ts-workshop.s3-us-west-2.amazonaws.com (tko-2020-ts-workshop.s3-us-west-2.amazonaws.com)... 52.218.218.153\n",
      "Connecting to tko-2020-ts-workshop.s3-us-west-2.amazonaws.com (tko-2020-ts-workshop.s3-us-west-2.amazonaws.com)|52.218.218.153|:443... connected.\n",
      "HTTP request sent, awaiting response... 200 OK\n",
      "Length: 1060959 (1.0M) [text/csv]\n",
      "Saving to: ‘data/timeseries_raw.csv’\n",
      "\n",
      "data/timeseries_raw 100%[===================>]   1.01M  1.60MB/s    in 0.6s    \n",
      "\n",
      "2020-01-08 08:07:00 (1.60 MB/s) - ‘data/timeseries_raw.csv’ saved [1060959/1060959]\n",
      "\n",
      "--2020-01-08 08:07:00--  https://tko-2020-ts-workshop.s3-us-west-2.amazonaws.com/data/shenzhen_weather.csv\n",
      "Resolving tko-2020-ts-workshop.s3-us-west-2.amazonaws.com (tko-2020-ts-workshop.s3-us-west-2.amazonaws.com)... 52.218.218.153\n",
      "Connecting to tko-2020-ts-workshop.s3-us-west-2.amazonaws.com (tko-2020-ts-workshop.s3-us-west-2.amazonaws.com)|52.218.218.153|:443... connected.\n",
      "HTTP request sent, awaiting response... 200 OK\n",
      "Length: 2461 (2.4K) [text/csv]\n",
      "Saving to: ‘data/shenzhen_weather.csv’\n",
      "\n",
      "data/shenzhen_weath 100%[===================>]   2.40K  --.-KB/s    in 0s      \n",
      "\n",
      "2020-01-08 08:07:00 (194 MB/s) - ‘data/shenzhen_weather.csv’ saved [2461/2461]\n",
      "\n",
      "--2020-01-08 08:07:00--  https://tko-2020-ts-workshop.s3-us-west-2.amazonaws.com/data/is_weekend.csv\n",
      "Resolving tko-2020-ts-workshop.s3-us-west-2.amazonaws.com (tko-2020-ts-workshop.s3-us-west-2.amazonaws.com)... 52.218.218.153\n",
      "Connecting to tko-2020-ts-workshop.s3-us-west-2.amazonaws.com (tko-2020-ts-workshop.s3-us-west-2.amazonaws.com)|52.218.218.153|:443... connected.\n",
      "HTTP request sent, awaiting response... 200 OK\n",
      "Length: 1076 (1.1K) [text/csv]\n",
      "Saving to: ‘data/is_weekend.csv’\n",
      "\n",
      "data/is_weekend.csv 100%[===================>]   1.05K  --.-KB/s    in 0s      \n",
      "\n",
      "2020-01-08 08:07:01 (89.3 MB/s) - ‘data/is_weekend.csv’ saved [1076/1076]\n",
      "\n",
      "--2020-01-08 08:07:01--  https://tko-2020-ts-workshop.s3-us-west-2.amazonaws.com/data/cat.csv\n",
      "Resolving tko-2020-ts-workshop.s3-us-west-2.amazonaws.com (tko-2020-ts-workshop.s3-us-west-2.amazonaws.com)... 52.218.218.153\n",
      "Connecting to tko-2020-ts-workshop.s3-us-west-2.amazonaws.com (tko-2020-ts-workshop.s3-us-west-2.amazonaws.com)|52.218.218.153|:443... connected.\n",
      "HTTP request sent, awaiting response... 200 OK\n",
      "Length: 106442 (104K) [text/csv]\n",
      "Saving to: ‘data/cat.csv’\n",
      "\n",
      "data/cat.csv        100%[===================>] 103.95K   423KB/s    in 0.2s    \n",
      "\n",
      "2020-01-08 08:07:02 (423 KB/s) - ‘data/cat.csv’ saved [106442/106442]\n",
      "\n"
     ]
    }
   ],
   "source": [
    "!mkdir -p data\n",
    "!wget -O data/timeseries_raw.csv https://tko-2020-ts-workshop.s3-us-west-2.amazonaws.com/data/timeseries_raw.csv\n",
    "!wget -O data/shenzhen_weather.csv https://tko-2020-ts-workshop.s3-us-west-2.amazonaws.com/data/shenzhen_weather.csv\n",
    "!wget -O data/is_weekend.csv https://tko-2020-ts-workshop.s3-us-west-2.amazonaws.com/data/is_weekend.csv\n",
    "!wget -O data/cat.csv https://tko-2020-ts-workshop.s3-us-west-2.amazonaws.com/data/cat.csv"
   ]
  },
  {
   "cell_type": "markdown",
   "metadata": {},
   "source": [
    "## Install packages"
   ]
  },
  {
   "cell_type": "code",
   "execution_count": 2,
   "metadata": {
    "scrolled": true
   },
   "outputs": [
    {
     "name": "stdout",
     "output_type": "stream",
     "text": [
      "Collecting lightgbm\n",
      "\u001b[?25l  Downloading https://files.pythonhosted.org/packages/0b/9d/ddcb2f43aca194987f1a99e27edf41cf9bc39ea750c3371c2a62698c509a/lightgbm-2.3.1-py2.py3-none-manylinux1_x86_64.whl (1.2MB)\n",
      "\u001b[K    100% |████████████████████████████████| 1.2MB 27.8MB/s ta 0:00:011\n",
      "\u001b[?25hCollecting python-decouple\n",
      "  Downloading https://files.pythonhosted.org/packages/c7/82/dd20cdca396f58be86c6e710a3958f4a34ca98c5dd3989ee978b6cb9f97e/python-decouple-3.3.tar.gz\n",
      "Collecting statsmodels\n",
      "\u001b[?25l  Downloading https://files.pythonhosted.org/packages/48/f9/9f5c93b0159d89dd527ed271ca2ad71af629422d89530218c5e929c5f800/statsmodels-0.10.2-cp36-cp36m-manylinux1_x86_64.whl (8.1MB)\n",
      "\u001b[K    100% |████████████████████████████████| 8.1MB 6.4MB/s eta 0:00:01\n",
      "\u001b[?25hRequirement already satisfied, skipping upgrade: scikit-learn in /usr/lib64/python3.6/dist-packages (from lightgbm) (0.20.2)\n",
      "Requirement already satisfied, skipping upgrade: numpy in /usr/lib64/python3.6/dist-packages (from lightgbm) (1.17.3)\n",
      "Requirement already satisfied, skipping upgrade: scipy in /usr/lib64/python3.6/dist-packages (from lightgbm) (1.3.1)\n",
      "Collecting patsy>=0.4.0 (from statsmodels)\n",
      "\u001b[?25l  Downloading https://files.pythonhosted.org/packages/ea/0c/5f61f1a3d4385d6bf83b83ea495068857ff8dfb89e74824c6e9eb63286d8/patsy-0.5.1-py2.py3-none-any.whl (231kB)\n",
      "\u001b[K    100% |████████████████████████████████| 235kB 54.5MB/s ta 0:00:011\n",
      "\u001b[?25hRequirement already satisfied, skipping upgrade: pandas>=0.19 in /usr/lib64/python3.6/dist-packages (from statsmodels) (0.24.2)\n",
      "Requirement already satisfied, skipping upgrade: six in /usr/lib/python3.6/dist-packages (from patsy>=0.4.0->statsmodels) (1.12.0)\n",
      "Requirement already satisfied, skipping upgrade: pytz>=2011k in /usr/lib/python3.6/dist-packages (from pandas>=0.19->statsmodels) (2019.3)\n",
      "Requirement already satisfied, skipping upgrade: python-dateutil>=2.5.0 in /usr/lib/python3.6/dist-packages (from pandas>=0.19->statsmodels) (2.8.0)\n",
      "Building wheels for collected packages: python-decouple\n",
      "  Building wheel for python-decouple (setup.py) ... \u001b[?25ldone\n",
      "\u001b[?25h  Stored in directory: /home/ec2-user/.cache/pip/wheels/f4/9b/79/5eec9ea205382552b014e749cb8a2b4ce0d6836a6f4db5ac0c\n",
      "Successfully built python-decouple\n",
      "Installing collected packages: lightgbm, python-decouple, patsy, statsmodels\n",
      "Successfully installed lightgbm-2.3.1 patsy-0.5.1 python-decouple-3.3 statsmodels-0.10.2\n",
      "\u001b[33mYou are using pip version 19.0.2, however version 19.3.1 is available.\n",
      "You should consider upgrading via the 'pip install --upgrade pip' command.\u001b[0m\n"
     ]
    }
   ],
   "source": [
    "!pip3 install --upgrade --user lightgbm python-decouple statsmodels"
   ]
  }
 ],
 "metadata": {
  "kernelspec": {
   "display_name": "conda_python3",
   "language": "python",
   "name": "conda_python3"
  },
  "language_info": {
   "codemirror_mode": {
    "name": "ipython",
    "version": 3
   },
   "file_extension": ".py",
   "mimetype": "text/x-python",
   "name": "python",
   "nbconvert_exporter": "python",
   "pygments_lexer": "ipython3",
   "version": "3.6.5"
  }
 },
 "nbformat": 4,
 "nbformat_minor": 4
}
