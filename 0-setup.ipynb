{
 "cells": [
  {
   "cell_type": "markdown",
   "metadata": {},
   "source": [
    "## Download Data"
   ]
  },
  {
   "cell_type": "code",
   "execution_count": null,
   "metadata": {},
   "outputs": [],
   "source": [
    "!mkdir -p data\n",
    "!wget -O data/timeseries_raw.csv https://tko-2020-ts-workshop.s3-us-west-2.amazonaws.com/data/timeseries_raw.csv\n",
    "!wget -O data/shenzhen_weather.csv https://tko-2020-ts-workshop.s3-us-west-2.amazonaws.com/data/shenzhen_weather.csv\n",
    "!wget -O data/is_weekend.csv https://tko-2020-ts-workshop.s3-us-west-2.amazonaws.com/data/is_weekend.csv\n",
    "!wget -O data/cat.csv https://tko-2020-ts-workshop.s3-us-west-2.amazonaws.com/data/cat.csv"
   ]
  },
  {
   "cell_type": "code",
   "execution_count": null,
   "metadata": {},
   "outputs": [],
   "source": [
    "!pip uninstall pandas -y\n",
    "!pip install pandas==0.25.0"
   ]
  },
  {
   "cell_type": "markdown",
   "metadata": {},
   "source": [
    "## Install packages"
   ]
  },
  {
   "cell_type": "code",
   "execution_count": null,
   "metadata": {
    "scrolled": true
   },
   "outputs": [],
   "source": [
    "!pip3 install --upgrade --user lightgbm python-decouple statsmodels"
   ]
  }
 ],
 "metadata": {
  "kernelspec": {
   "display_name": "conda_python3",
   "language": "python",
   "name": "conda_python3"
  },
  "language_info": {
   "codemirror_mode": {
    "name": "ipython",
    "version": 3
   },
   "file_extension": ".py",
   "mimetype": "text/x-python",
   "name": "python",
   "nbconvert_exporter": "python",
   "pygments_lexer": "ipython3",
   "version": "3.6.13"
  }
 },
 "nbformat": 4,
 "nbformat_minor": 4
}
